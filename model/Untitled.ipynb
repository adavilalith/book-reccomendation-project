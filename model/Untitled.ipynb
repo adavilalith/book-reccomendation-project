{
 "cells": [
  {
   "cell_type": "code",
   "execution_count": 1,
   "id": "06e47748",
   "metadata": {},
   "outputs": [],
   "source": [
    "import numpy as np\n",
    "import pandas as pd"
   ]
  },
  {
   "cell_type": "code",
   "execution_count": 19,
   "id": "3008998f",
   "metadata": {},
   "outputs": [
    {
     "ename": "SyntaxError",
     "evalue": "invalid syntax (731835340.py, line 3)",
     "output_type": "error",
     "traceback": [
      "\u001b[1;36m  Cell \u001b[1;32mIn[19], line 3\u001b[1;36m\u001b[0m\n\u001b[1;33m    books.info('Year-Of-Publication':'int64')\u001b[0m\n\u001b[1;37m                                    ^\u001b[0m\n\u001b[1;31mSyntaxError\u001b[0m\u001b[1;31m:\u001b[0m invalid syntax\n"
     ]
    }
   ],
   "source": [
    "books = pd.read_csv('Books.csv')\n",
    "books.astype({})\n",
    "books.info()"
   ]
  },
  {
   "cell_type": "code",
   "execution_count": 16,
   "id": "b2624f31",
   "metadata": {},
   "outputs": [
    {
     "ename": "SyntaxError",
     "evalue": "invalid syntax (1365897646.py, line 1)",
     "output_type": "error",
     "traceback": [
      "\u001b[1;36m  Cell \u001b[1;32mIn[16], line 1\u001b[1;36m\u001b[0m\n\u001b[1;33m    old_books=books[books['Year-Of-Publication'],as('str').as('int')<=1950].drop_duplicates('Book-Title')\u001b[0m\n\u001b[1;37m                                                 ^\u001b[0m\n\u001b[1;31mSyntaxError\u001b[0m\u001b[1;31m:\u001b[0m invalid syntax\n"
     ]
    }
   ],
   "source": [
    "old_books=books[books['Year-Of-Publication'],as('str').as('int')<=1950].drop_duplicates('Book-Title')\n",
    "old_books.info()"
   ]
  },
  {
   "cell_type": "code",
   "execution_count": 6,
   "id": "21f1df20",
   "metadata": {},
   "outputs": [
    {
     "ename": "NameError",
     "evalue": "name 'ratings_with_name' is not defined",
     "output_type": "error",
     "traceback": [
      "\u001b[1;31m---------------------------------------------------------------------------\u001b[0m",
      "\u001b[1;31mNameError\u001b[0m                                 Traceback (most recent call last)",
      "Cell \u001b[1;32mIn[6], line 1\u001b[0m\n\u001b[1;32m----> 1\u001b[0m num_rating \u001b[38;5;241m=\u001b[39m ratings_with_name\u001b[38;5;241m.\u001b[39mgroupby(\u001b[38;5;124m'\u001b[39m\u001b[38;5;124mBook-Title\u001b[39m\u001b[38;5;124m'\u001b[39m)\u001b[38;5;241m.\u001b[39magg(num_ratings\u001b[38;5;241m=\u001b[39m(\u001b[38;5;124m'\u001b[39m\u001b[38;5;124mBook-Rating\u001b[39m\u001b[38;5;124m'\u001b[39m,\u001b[38;5;124m'\u001b[39m\u001b[38;5;124mcount\u001b[39m\u001b[38;5;124m'\u001b[39m))\u001b[38;5;241m.\u001b[39mreset_index()\n\u001b[0;32m      2\u001b[0m num_rating\n",
      "\u001b[1;31mNameError\u001b[0m: name 'ratings_with_name' is not defined"
     ]
    }
   ],
   "source": [
    "num_rating = ratings_with_name.groupby('Book-Title').agg(num_ratings=('Book-Rating','count')).reset_index()\n",
    "num_rating"
   ]
  },
  {
   "cell_type": "code",
   "execution_count": null,
   "id": "813609c0",
   "metadata": {},
   "outputs": [],
   "source": [
    "avg_rating = ratings_with_name.groupby('Book-Title').agg(avg_rating=('Book-Rating','mean')).reset_index()\n",
    "avg_rating"
   ]
  }
 ],
 "metadata": {
  "kernelspec": {
   "display_name": "Python 3 (ipykernel)",
   "language": "python",
   "name": "python3"
  },
  "language_info": {
   "codemirror_mode": {
    "name": "ipython",
    "version": 3
   },
   "file_extension": ".py",
   "mimetype": "text/x-python",
   "name": "python",
   "nbconvert_exporter": "python",
   "pygments_lexer": "ipython3",
   "version": "3.11.5"
  }
 },
 "nbformat": 4,
 "nbformat_minor": 5
}
